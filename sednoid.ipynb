{
 "cells": [
  {
   "cell_type": "markdown",
   "metadata": {},
   "source": [
    "### Sednoid Daten \n",
    "Daten holen von https://ssd.jpl.nasa.gov/ und in wikitable konvertieren\n",
    "Verwendung für [Wikipedia-Vorlage: Sednoiden](https://de.wikipedia.org/wiki/Vorlage:Sednoiden)"
   ]
  },
  {
   "cell_type": "markdown",
   "metadata": {},
   "source": [
    "Libs importieren"
   ]
  },
  {
   "cell_type": "code",
   "execution_count": 44,
   "metadata": {},
   "outputs": [],
   "source": [
    "from urllib.request import urlopen\n",
    "import json"
   ]
  },
  {
   "cell_type": "markdown",
   "metadata": {},
   "source": [
    "JSON-Daten laden"
   ]
  },
  {
   "cell_type": "code",
   "execution_count": 45,
   "metadata": {},
   "outputs": [],
   "source": [
    "url='https://ssd-api.jpl.nasa.gov/sbdb_query.api?fields=epoch.cal,full_name,name,pdes,a,sigma_a,e,sigma_e,q,sigma_q,ad,sigma_ad,i,sigma_i,om,sigma_om,w,sigma_w,per.y,sigma_per,H,H_sigma,source&sb-kind=a&sb-cdata=%7B%22AND%22:%5B%22a%7CGE%7C150%22,%22q%7CGE%7C50%22%5D%7D'\n",
    "with urlopen(url) as response:\n",
    "    ssd = json.load(response)\n",
    "    #print(ssd)\n"
   ]
  },
  {
   "cell_type": "markdown",
   "metadata": {},
   "source": [
    "Objekt für jeden Asteroiden bauen"
   ]
  },
  {
   "cell_type": "code",
   "execution_count": 46,
   "metadata": {},
   "outputs": [],
   "source": [
    "sednoids = []\n",
    "for asteroid in ssd['data']:\n",
    "    # print(asteroid)\n",
    "    sednoid = {}\n",
    "    for field, val in zip(ssd['fields'], asteroid):\n",
    "        sednoid[field] = val\n",
    "        #print(field, val)\n",
    "        \n",
    "    sednoids.append(sednoid)"
   ]
  },
  {
   "cell_type": "markdown",
   "metadata": {},
   "source": [
    "### Wikitable"
   ]
  },
  {
   "cell_type": "markdown",
   "metadata": {},
   "source": [
    "Wikitable-Header und -Footer"
   ]
  },
  {
   "cell_type": "code",
   "execution_count": 47,
   "metadata": {},
   "outputs": [],
   "source": [
    "from string import Template\n",
    "headertpl = Template(\"\"\"{| class=\"wikitable sortable zebra\" style=\"text-align:right; padding:2px 30px 2px 2px;\"\n",
    "|+ Bahnparameter hoch-extremer transneptunischer Objekte mit Perihelien größer 50 AE und großen Halbachsen \"\"\"\n",
    "\"\"\"weiter als 150 AE<ref name=\"Ssd-Api\">{{Internetquelle \n",
    "    |url=$url\n",
    "    |titel=SSD-Daten \n",
    "    |werk=[https://ssd.jpl.nasa.gov/tools/sbdb_query.html Small-Body Database Query] \n",
    "    |hrsg=Caltech/JPL \n",
    "    |format=JSON-Daten\n",
    "    |datum=$epoch\n",
    "    |abruf=$currentdate }}</ref>\n",
    "|- style=\"vertical-align:bottom;\"\n",
    "! Objekt\n",
    "! [[Halbachsen der Ellipse|Halb&shy;achse]]<br />a (AE)\n",
    "! [[Exzentrizität (Astronomie)|Exzen&shy;trizität]]<br />e\n",
    "! [[Perihel]]<br />q (AE)\n",
    "! [[Aphel]]<br />Q (AE)\n",
    "! [[Bahnneigung|Inkli&shy;nation]]<br />i (°)\n",
    "! [[Argument der Periapsis|Argument<br />der Periapsis]]<br />(°)\n",
    "! [[Länge des aufsteigenden Knotens|Länge des aufst. Knotens]]<br />Ω (°)\n",
    "! [[Umlaufzeit|Umlauf&shy;zeit]]<br />T (Jahre)\n",
    "! [[Absolute Helligkeit]]<br />H (mag)\n",
    "\"\"\")\n",
    "\n",
    "footer=\"\"\"|}<noinclude>\n",
    "\n",
    "[[Kategorie:Vorlage:Astronomie]]\n",
    "[[Kategorie:Vorlage:Tabelle]]\n",
    "</noinclude>\"\"\""
   ]
  },
  {
   "cell_type": "markdown",
   "metadata": {},
   "source": [
    "Hilfsfunktion um Toleranzen zu berechen, darzustellen und sie bei zu kleinen Werten auszublenden."
   ]
  },
  {
   "cell_type": "code",
   "execution_count": 48,
   "metadata": {},
   "outputs": [],
   "source": [
    "def renderToleran(wert, sigma):\n",
    "    if sigma * 100 / wert > 2:\n",
    "        # Toleranz anzeigen\n",
    "        return \"{0:n} ± {1:.0f}\".format(wert, sigma)\n",
    "    else:\n",
    "        # nur Wert\n",
    "        return format(wert, \"n\")"
   ]
  },
  {
   "cell_type": "markdown",
   "metadata": {},
   "source": [
    "Formatierung Name wikipedia-gerecht (einschließlich Wikilink)"
   ]
  },
  {
   "cell_type": "code",
   "execution_count": 49,
   "metadata": {},
   "outputs": [],
   "source": [
    "def wikiname(sed):\n",
    "    if (sed['name'] == None):\n",
    "        parts = sed['pdes'].split(' ')\n",
    "        des = parts[1][:2]\n",
    "        number = parts[1][2:]\n",
    "        return '[[{}|{} {}<sub>{}</sub>]]'.format(sed['pdes'],parts[0], des, number)\n",
    "    else:\n",
    "        return '[[({}) {}]]'.format(sed['pdes'], sed['name'])"
   ]
  },
  {
   "cell_type": "markdown",
   "metadata": {},
   "source": [
    "Über Asteroiden iterieren und Felder aus den Asteroiden berechnen"
   ]
  },
  {
   "cell_type": "code",
   "execution_count": 50,
   "metadata": {},
   "outputs": [],
   "source": [
    "import locale\n",
    "loc = locale.getlocale()\n",
    "locale.setlocale(locale.LC_ALL, '')\n",
    "\n",
    "from decimal import *\n",
    "\n",
    "out = []\n",
    "for sed in sednoids:\n",
    "    sed_out = {}\n",
    "    for name,value in sed.items():\n",
    "        if name in ['q','i','om','w','H']:\n",
    "            sed_out[name] = format(float(sed[name]), \"n\")\n",
    "            #print(name+': '+sed_out[name])\n",
    "\n",
    "        if name in ['e']:\n",
    "            sed_out[name] = format(Decimal(sed[name]).quantize(Decimal('1.00')), \"n\")\n",
    "            #print(name+': '+sed_out[name])\n",
    "            \n",
    "        elif name in ['a','ad']:\n",
    "            sed_out[name] = renderToleran(float(sed[name]), float(sed['sigma_'+name]))\n",
    "            #print(name+': '+sed_out[name])\n",
    "            \n",
    "        elif name == 'per.y':\n",
    "            # sigma_per sind Tage\n",
    "            sed_out[name] = renderToleran(float(sed[name]), float(sed['sigma_per'])/365)\n",
    "            #print(name+': '+sed_out[name])\n",
    "            \n",
    "        elif name == 'full_name':\n",
    "            sed_out[name] = wikiname(sed)\n",
    "            #print(sed_out[name])\n",
    "            \n",
    "        else:\n",
    "            sed_out[name] = str(sed[name])\n",
    "            #print('unchanged '+sed_out[name])\n",
    "\n",
    "    out.append(sed_out)\n",
    "#print(out)\n",
    "\n",
    "epoch=out[0]['epoch.cal'].split('.')[0]\n",
    "#print(epoch)"
   ]
  },
  {
   "cell_type": "markdown",
   "metadata": {},
   "source": [
    "#### Final Rendering"
   ]
  },
  {
   "cell_type": "code",
   "execution_count": 51,
   "metadata": {
    "scrolled": true
   },
   "outputs": [
    {
     "name": "stdout",
     "output_type": "stream",
     "text": [
      "{| class=\"wikitable sortable zebra\" style=\"text-align:right; padding:2px 30px 2px 2px;\"\n",
      "|+ Bahnparameter hoch-extremer transneptunischer Objekte mit Perihelien größer 50 AE und großen Halbachsen weiter als 150 AE<ref name=\"Ssd-Api\">{{Internetquelle \n",
      "    |url=https://ssd-api.jpl.nasa.gov/sbdb_query.api?fields=epoch.cal,full_name,name,pdes,a,sigma_a,e,sigma_e,q,sigma_q,ad,sigma_ad,i,sigma_i,om,sigma_om,w,sigma_w,per.y,sigma_per,H,H_sigma,source&sb-kind=a&sb-cdata=%7B%22AND%22:%5B%22a%7CGE%7C150%22,%22q%7CGE%7C50%22%5D%7D\n",
      "    |titel=SSD-Daten \n",
      "    |werk=[https://ssd.jpl.nasa.gov/tools/sbdb_query.html Small-Body Database Query] \n",
      "    |hrsg=Caltech/JPL \n",
      "    |format=JSON-Daten\n",
      "    |datum=2022-01-21\n",
      "    |abruf=2022-02-24 }}</ref>\n",
      "|- style=\"vertical-align:bottom;\"\n",
      "! Objekt\n",
      "! [[Halbachsen der Ellipse|Halb&shy;achse]]<br />a (AE)\n",
      "! [[Exzentrizität (Astronomie)|Exzen&shy;trizität]]<br />e\n",
      "! [[Perihel]]<br />q (AE)\n",
      "! [[Aphel]]<br />Q (AE)\n",
      "! [[Bahnneigung|Inkli&shy;nation]]<br />i (°)\n",
      "! [[Argument der Periapsis|Argument<br />der Periapsis]]<br />(°)\n",
      "! [[Länge des aufsteigenden Knotens|Länge des aufst. Knotens]]<br />Ω (°)\n",
      "! [[Umlaufzeit|Umlauf&shy;zeit]]<br />T (Jahre)\n",
      "! [[Absolute Helligkeit]]<br />H (mag)\n",
      "|-\n",
      "| style=\"text-align:left;\" | [[(90377) Sedna]]\n",
      "| 510,3 || 0,85 || 76.370 || 944,33 || 11.93 || 311.02 || 144.21 || 11.500 || 1.55\n",
      "|-\n",
      "| style=\"text-align:left;\" | [[(541132) Leleakuhonua]]\n",
      "| 1.274 ± 150 || 0,95 || 65.166 || 2.483,41 ± 300 || 11.66 || 117.59 || 300.83 || 45.500 ± 8219 || 5.50\n",
      "|-\n",
      "| style=\"text-align:left;\" | [[2012 VP113|2012 VP<sub>113</sub>]]\n",
      "| 269,2 || 0,70 || 80.438 || 458,02 || 24.07 || 293.75 || 90.75 || 4.420 || 4.09\n",
      "|-\n",
      "| style=\"text-align:left;\" | [[2013 SY99|2013 SY<sub>99</sub>]]\n",
      "| 824,9 ± 32 || 0,94 || 50.081 || 1.599,79 ± 63 || 4.21 || 31.69 || 29.53 || 23.700 ± 1397 || 6.70\n",
      "|}<noinclude>\n",
      "\n",
      "[[Kategorie:Vorlage:Astronomie]]\n",
      "[[Kategorie:Vorlage:Tabelle]]\n",
      "</noinclude>\n"
     ]
    }
   ],
   "source": [
    "from datetime import date\n",
    "table = \"\"\n",
    "for ast in out:\n",
    "    #print(ast)\n",
    "    # Start Zeile\n",
    "    table += \"\"\"|-\n",
    "| style=\"text-align:left;\" | \"\"\"\n",
    "    table += ast['full_name'].strip() + '\\n'\n",
    "    table += '| ' + ast['a']\n",
    "    table += ' || ' + ast['e']\n",
    "    table += ' || ' + ast['q']\n",
    "    table += ' || ' + ast['ad']\n",
    "    table += ' || ' + ast['i']\n",
    "    table += ' || ' + ast['w']\n",
    "    table += ' || ' + ast['om']\n",
    "    table += ' || ' + ast['per.y']\n",
    "    table += ' || ' + ast['H']\n",
    "\n",
    "    table += '\\n'\n",
    "    \n",
    "header = headertpl.substitute(currentdate=date.today().isoformat(), epoch=epoch, url=url)\n",
    "    \n",
    "ergebnis = header + table + footer\n",
    "print(ergebnis)"
   ]
  }
 ],
 "metadata": {
  "interpreter": {
   "hash": "916dbcbb3f70747c44a77c7bcd40155683ae19c65e1c03b4aa3499c5328201f1"
  },
  "kernelspec": {
   "display_name": "Python 3.8.10 64-bit",
   "language": "python",
   "name": "python3"
  },
  "language_info": {
   "codemirror_mode": {
    "name": "ipython",
    "version": 3
   },
   "file_extension": ".py",
   "mimetype": "text/x-python",
   "name": "python",
   "nbconvert_exporter": "python",
   "pygments_lexer": "ipython3",
   "version": "3.8.10"
  }
 },
 "nbformat": 4,
 "nbformat_minor": 4
}
