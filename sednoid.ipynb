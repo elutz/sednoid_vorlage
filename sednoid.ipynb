{
 "cells": [
  {
   "cell_type": "markdown",
   "metadata": {},
   "source": [
    "### Sednoid Daten \n",
    "Daten holen von https://ssd.jpl.nasa.gov/ und in wikitable konvertieren\n",
    "Verwendung für [Wikipedia-Vorlage: Sednoiden](https://de.wikipedia.org/wiki/Vorlage:Sednoiden)"
   ]
  },
  {
   "cell_type": "markdown",
   "metadata": {},
   "source": [
    "Libs importieren"
   ]
  },
  {
   "cell_type": "code",
   "execution_count": 97,
   "metadata": {},
   "outputs": [],
   "source": [
    "from urllib.request import urlopen\n",
    "import json"
   ]
  },
  {
   "cell_type": "markdown",
   "metadata": {},
   "source": [
    "JSON-Daten laden"
   ]
  },
  {
   "cell_type": "code",
   "execution_count": 98,
   "metadata": {},
   "outputs": [],
   "source": [
    "url='https://ssd-api.jpl.nasa.gov/sbdb_query.api?fields=epoch.cal,full_name,name,pdes,a,sigma_a,e,sigma_e,q,sigma_q,ad,sigma_ad,i,sigma_i,om,sigma_om,w,sigma_w,per.y,sigma_per,H,H_sigma,source&sb-kind=a&sb-cdata=%7B%22AND%22:%5B%22a%7CGE%7C150%22,%22q%7CGE%7C50%22%5D%7D'\n",
    "with urlopen(url) as response:\n",
    "    ssd = json.load(response)\n",
    "    #print(ssd)\n"
   ]
  },
  {
   "cell_type": "markdown",
   "metadata": {},
   "source": [
    "Objekt für jeden Asteroiden bauen"
   ]
  },
  {
   "cell_type": "code",
   "execution_count": 100,
   "metadata": {},
   "outputs": [
    {
     "name": "stdout",
     "output_type": "stream",
     "text": [
      "epoch.cal 2022-01-21.0\n",
      "full_name  90377 Sedna (2003 VB12)\n",
      "name Sedna\n",
      "pdes 90377\n",
      "a 510.3\n",
      "sigma_a 1.8e-01\n",
      "e 0.8504\n",
      "sigma_e 5.2e-05\n",
      "q 76.370\n",
      "sigma_q 1.8e-03\n",
      "ad 944.33\n",
      "sigma_ad 3.3e-01\n",
      "i 11.93\n",
      "sigma_i 3.7e-06\n",
      "om 144.21\n",
      "sigma_om 4.6e-04\n",
      "w 311.02\n",
      "sigma_w 3.2e-03\n",
      "per.y 1.15e+04\n",
      "sigma_per 2.2e+03\n",
      "H 1.56\n",
      "H_sigma None\n",
      "source ORB\n",
      "epoch.cal 2022-01-21.0\n",
      "full_name 541132 Leleakuhonua (2015 TG387)\n",
      "name Leleakuhonua\n",
      "pdes 541132\n",
      "a 1274\n",
      "sigma_a 1.5e+02\n",
      "e 0.9489\n",
      "sigma_e 6.4e-03\n",
      "q 65.166\n",
      "sigma_q 2.1e-01\n",
      "ad 2483.41\n",
      "sigma_ad 3.0e+02\n",
      "i 11.66\n",
      "sigma_i 6.3e-04\n",
      "om 300.83\n",
      "sigma_om 7.2e-03\n",
      "w 117.59\n",
      "sigma_w 3.1e-01\n",
      "per.y 4.55e+04\n",
      "sigma_per 3.0e+06\n",
      "H 5.50\n",
      "H_sigma 0.13\n",
      "source ORB\n",
      "epoch.cal 2022-01-21.0\n",
      "full_name        (2012 VP113)\n",
      "name None\n",
      "pdes 2012 VP113\n",
      "a 269.2\n",
      "sigma_a 5.7e-01\n",
      "e 0.7012\n",
      "sigma_e 7.2e-04\n",
      "q 80.438\n",
      "sigma_q 3.3e-02\n",
      "ad 458.02\n",
      "sigma_ad 9.6e-01\n",
      "i 24.07\n",
      "sigma_i 5.8e-04\n",
      "om 90.75\n",
      "sigma_om 1.3e-03\n",
      "w 293.75\n",
      "sigma_w 1.3e-01\n",
      "per.y 4.42e+03\n",
      "sigma_per 5.1e+03\n",
      "H 4.00\n",
      "H_sigma None\n",
      "source ORB\n",
      "epoch.cal 2022-01-21.0\n",
      "full_name        (2013 SY99)\n",
      "name None\n",
      "pdes 2013 SY99\n",
      "a 824.9\n",
      "sigma_a 3.2e+01\n",
      "e 0.9393\n",
      "sigma_e 2.4e-03\n",
      "q 50.081\n",
      "sigma_q 5.6e-02\n",
      "ad 1599.79\n",
      "sigma_ad 6.3e+01\n",
      "i 4.21\n",
      "sigma_i 1.2e-03\n",
      "om 29.53\n",
      "sigma_om 5.2e-03\n",
      "w 31.69\n",
      "sigma_w 1.1e-01\n",
      "per.y 2.37e+04\n",
      "sigma_per 5.1e+05\n",
      "H 6.70\n",
      "H_sigma None\n",
      "source ORB\n"
     ]
    }
   ],
   "source": [
    "sednoids = []\n",
    "for asteroid in ssd['data']:\n",
    "    # print(asteroid)\n",
    "    sednoid = {}\n",
    "    for field, val in zip(ssd['fields'], asteroid):\n",
    "        sednoid[field] = val\n",
    "        #print(field, val)\n",
    "        \n",
    "    sednoids.append(sednoid)"
   ]
  },
  {
   "cell_type": "markdown",
   "metadata": {},
   "source": [
    "### Wikitable"
   ]
  },
  {
   "cell_type": "markdown",
   "metadata": {},
   "source": [
    "Wikitable-Header und -Footer"
   ]
  },
  {
   "cell_type": "code",
   "execution_count": 106,
   "metadata": {},
   "outputs": [],
   "source": [
    "header = \"\"\"{| class=\"wikitable sortable zebra\" style=\"text-align:right; padding:2px 30px 2px 2px;\"\n",
    "|+ Bahnparameter hoch-extremer transneptunischer Objekte mit Perihelien größer 50 AE und großen Halbachsen weiter als 150 AE<ref name=\"Ssd-Api\">\n",
    "{{Internetquelle \n",
    "    |url=https://ssd-api.jpl.nasa.gov/sbdb_query.api?fields=epoch.cal,full_name,name,pdes,a,sigma_a,e,sigma_e,q,sigma_q,ad,sigma_ad,i,sigma_i,om,sigma_om,w,sigma_w,per.y,sigma_per,H,H_sigma,source&sb-kind=a&sb-cdata=%7B%22AND%22:%5B%22a%7CGE%7C150%22,%22q%7CGE%7C50%22%5D%7D \n",
    "    |titel=SSD-Daten \n",
    "    |werk=[https://ssd.jpl.nasa.gov/tools/sbdb_query.html Small-Body Database Query] \n",
    "    |hrsg=Caltech/JPL \n",
    "    |format=JSON-Daten \n",
    "    |abruf=2022-01-30 \n",
    "    |abruf-verborgen=1 }}</ref>\n",
    "|- style=\"vertical-align:bottom;\"\n",
    "! Objekt\n",
    "! [[Halbachsen der Ellipse|Halb&shy;achse]]<br />a (AE)\n",
    "! [[Exzentrizität (Astronomie)|Exzen&shy;trizität]]<br />e\n",
    "! [[Perihel]]<br />q (AE)\n",
    "! [[Aphel]]<br />Q (AE)\n",
    "! [[Bahnneigung|Inkli&shy;nation]]<br />i (°)\n",
    "! [[Argument der Periapsis|Argument<br />der Periapsis]]<br />(°)\n",
    "! [[Länge des aufsteigenden Knotens|Länge des aufst. Knotens]]<br />Ω (°)\n",
    "! [[Umlaufzeit|Umlauf&shy;zeit]]<br />T (Jahre)\n",
    "! [[Absolute Helligkeit]]<br />H (mag)\n",
    "\"\"\"\n",
    "\n",
    "footer=\"\"\"|}<noinclude>\n",
    "\n",
    "[[Kategorie:Vorlage:Astronomie]]\n",
    "[[Kategorie:Vorlage:Tabelle]]\n",
    "</noinclude>\n",
    "\"\"\""
   ]
  },
  {
   "cell_type": "markdown",
   "metadata": {},
   "source": [
    "Hilfsfunktion um Toleranzen zu berechen, darzustellen und sie bei zu kleinen Werten auszublenden."
   ]
  },
  {
   "cell_type": "code",
   "execution_count": 107,
   "metadata": {},
   "outputs": [],
   "source": [
    "def renderToleran(wert, sigma):\n",
    "    if sigma * 100 / wert > 2:\n",
    "        # Toleranz anzeigen\n",
    "        return \"{0:n} ± {1:.0f}\".format(wert, sigma)\n",
    "    else:\n",
    "        # nur Wert\n",
    "        return format(wert, \"n\")"
   ]
  },
  {
   "cell_type": "markdown",
   "metadata": {},
   "source": [
    "Formatierung Name wikipedia-gerecht (einschließlich Wikilink)"
   ]
  },
  {
   "cell_type": "code",
   "execution_count": 108,
   "metadata": {},
   "outputs": [],
   "source": [
    "def wikiname(sed):\n",
    "    if (sed['name'] == None):\n",
    "        parts = sed['pdes'].split(' ')\n",
    "        des = parts[1][:2]\n",
    "        number = parts[1][2:]\n",
    "        return '[[{}|{} {}<sub>{}</sub>]]'.format(sed['pdes'],parts[0], des, number)\n",
    "    else:\n",
    "        return '[[({}) {}]]'.format(sed['pdes'], sed['name'])"
   ]
  },
  {
   "cell_type": "markdown",
   "metadata": {},
   "source": [
    "Über Asteroiden iterieren und Feldern aus den Asteroiden berechnen"
   ]
  },
  {
   "cell_type": "code",
   "execution_count": 109,
   "metadata": {},
   "outputs": [],
   "source": [
    "import locale\n",
    "loc = locale.getlocale()\n",
    "locale.setlocale(locale.LC_ALL, '')\n",
    "\n",
    "out = []\n",
    "for sed in sednoids:\n",
    "    sed_out = {}\n",
    "    for name,value in sed.items():\n",
    "        if name in ['e','q','i','om','w','H']:\n",
    "            sed_out[name] = format(float(sed[name]), \"n\")\n",
    "            #print(name+': '+sed_out[name])\n",
    "            \n",
    "        elif name in ['a','ad']:\n",
    "            sed_out[name] = renderToleran(float(sed[name]), float(sed['sigma_'+name]))\n",
    "            #print(name+': '+sed_out[name])\n",
    "            \n",
    "        elif name == 'per.y':\n",
    "            # sigma_per sind Tage\n",
    "            sed_out[name] = renderToleran(float(sed[name]), float(sed['sigma_per'])/365)\n",
    "            #print(name+': '+sed_out[name])\n",
    "            \n",
    "        elif name == 'full_name':\n",
    "            sed_out[name] = wikiname(sed)\n",
    "            #print(sed_out[name])\n",
    "            \n",
    "        else:\n",
    "            sed_out[name] = str(sed[name])\n",
    "            #print('unchanged '+sed_out[name])\n",
    "\n",
    "    out.append(sed_out)\n",
    "#print(out)"
   ]
  },
  {
   "cell_type": "code",
   "execution_count": 110,
   "metadata": {
    "scrolled": true
   },
   "outputs": [
    {
     "name": "stdout",
     "output_type": "stream",
     "text": [
      "{| class=\"wikitable sortable zebra\" style=\"text-align:right; padding:2px 30px 2px 2px;\"\n",
      "|+ Bahnparameter hoch-extremer transneptunischer Objekte mit Perihelien größer 50 AE und großen Halbachsen weiter als 150 AE<ref name=\"Ssd-Api\">{{Internetquelle |url=https://ssd-api.jpl.nasa.gov/sbdb_query.api?fields=epoch.cal,full_name,name,pdes,a,sigma_a,e,sigma_e,q,sigma_q,ad,sigma_ad,i,sigma_i,om,sigma_om,w,sigma_w,per.y,sigma_per,H,H_sigma,source&sb-kind=a&sb-cdata=%7B%22AND%22:%5B%22a%7CGE%7C150%22,%22q%7CGE%7C50%22%5D%7D |titel=SSD-Daten |werk=[https://ssd.jpl.nasa.gov/tools/sbdb_query.html Small-Body Database Query] |hrsg=Caltech/JPL |format=JSON-Daten |abruf=2022-01-30 |abruf-verborgen=1 }}</ref>\n",
      "|- style=\"vertical-align:bottom;\"\n",
      "! Objekt\n",
      "! [[Halbachsen der Ellipse|Halb&shy;achse]]<br />a (AE)\n",
      "! [[Exzentrizität (Astronomie)|Exzen&shy;trizität]]<br />e\n",
      "! [[Perihel]]<br />q (AE)\n",
      "! [[Aphel]]<br />Q (AE)\n",
      "! [[Bahnneigung|Inkli&shy;nation]]<br />i (°)\n",
      "! [[Argument der Periapsis|Argument<br />der Periapsis]]<br />(°)\n",
      "! [[Länge des aufsteigenden Knotens|Länge des aufst. Knotens]]<br />Ω (°)\n",
      "! [[Umlaufzeit|Umlauf&shy;zeit]]<br />T (Jahre)\n",
      "! [[Absolute Helligkeit]]<br />H (mag)\n",
      "|-\n",
      "| style=\"text-align:left;\" | [[(90377) Sedna]]\n",
      "| 510,3 || 0,8504 || 76,37 || 944,33 || 11,93 || 311,02 || 144,21 || 11.500 || 1,56\n",
      "|-\n",
      "| style=\"text-align:left;\" | [[(541132) Leleakuhonua]]\n",
      "| 1.274 ± 150 || 0,9489 || 65,166 || 2.483,41 ± 300 || 11,66 || 117,59 || 300,83 || 45.500 ± 8219 || 5,5\n",
      "|-\n",
      "| style=\"text-align:left;\" | [[2012 VP113|2012 VP<sub>113</sub>]]\n",
      "| 269,2 || 0,7012 || 80,438 || 458,02 || 24,07 || 293,75 || 90,75 || 4.420 || 4\n",
      "|-\n",
      "| style=\"text-align:left;\" | [[2013 SY99|2013 SY<sub>99</sub>]]\n",
      "| 824,9 ± 32 || 0,9393 || 50,081 || 1.599,79 ± 63 || 4,21 || 31,69 || 29,53 || 23.700 ± 1397 || 6,7\n",
      "|}<noinclude>\n",
      "\n",
      "[[Kategorie:Vorlage:Astronomie]]\n",
      "[[Kategorie:Vorlage:Tabelle]]\n",
      "</noinclude>\n",
      "\n"
     ]
    }
   ],
   "source": [
    "table = \"\"\n",
    "for ast in out:\n",
    "    #print(ast)\n",
    "    # Start Zeile\n",
    "    table += \"\"\"|-\n",
    "| style=\"text-align:left;\" | \"\"\"\n",
    "    table += ast['full_name'].strip() + '\\n'\n",
    "    table += '| ' + ast['a']\n",
    "    table += ' || ' + ast['e']\n",
    "    table += ' || ' + ast['q']\n",
    "    table += ' || ' + ast['ad']\n",
    "    table += ' || ' + ast['i']\n",
    "    table += ' || ' + ast['w']\n",
    "    table += ' || ' + ast['om']\n",
    "    table += ' || ' + ast['per.y']\n",
    "    table += ' || ' + ast['H']\n",
    "\n",
    "    table += '\\n'\n",
    "    \n",
    "ergebnis = header + table + footer\n",
    "print(ergebnis)"
   ]
  },
  {
   "cell_type": "code",
   "execution_count": null,
   "metadata": {},
   "outputs": [],
   "source": []
  }
 ],
 "metadata": {
  "kernelspec": {
   "display_name": "Python 3.8.10 64-bit",
   "language": "python",
   "name": "python3810jvsc74a57bd0916dbcbb3f70747c44a77c7bcd40155683ae19c65e1c03b4aa3499c5328201f1"
  },
  "language_info": {
   "codemirror_mode": {
    "name": "ipython",
    "version": 3
   },
   "file_extension": ".py",
   "mimetype": "text/x-python",
   "name": "python",
   "nbconvert_exporter": "python",
   "pygments_lexer": "ipython3",
   "version": "3.8.10"
  }
 },
 "nbformat": 4,
 "nbformat_minor": 4
}
