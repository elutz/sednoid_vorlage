{
 "cells": [
  {
   "cell_type": "markdown",
   "metadata": {},
   "source": [
    "### Sednoid Daten \n",
    "Daten holen von https://ssd.jpl.nasa.gov/ und in wikitable konvertieren\n",
    "Verwendung für [Wikipedia-Vorlage: Sednoiden](https://de.wikipedia.org/wiki/Vorlage:Sednoiden)"
   ]
  },
  {
   "cell_type": "markdown",
   "metadata": {},
   "source": [
    "Libs importieren"
   ]
  },
  {
   "cell_type": "code",
   "execution_count": null,
   "metadata": {},
   "outputs": [],
   "source": [
    "from urllib.request import urlopen\n",
    "import json"
   ]
  },
  {
   "cell_type": "markdown",
   "metadata": {},
   "source": [
    "JSON-Daten laden"
   ]
  },
  {
   "cell_type": "code",
   "execution_count": null,
   "metadata": {},
   "outputs": [],
   "source": [
    "url='https://ssd-api.jpl.nasa.gov/sbdb_query.api?fields=epoch.cal,full_name,name,pdes,a,sigma_a,e,sigma_e,q,sigma_q,ad,sigma_ad,i,sigma_i,om,sigma_om,w,sigma_w,per.y,sigma_per,H,H_sigma,source&sb-kind=a&sb-cdata=%7B%22AND%22:%5B%22a%7CGE%7C150%22,%22q%7CGE%7C50%22%5D%7D'\n",
    "with urlopen(url) as response:\n",
    "    ssd = json.load(response)\n",
    "    #print(ssd)\n"
   ]
  },
  {
   "cell_type": "markdown",
   "metadata": {},
   "source": [
    "Objekt für jeden Asteroiden bauen"
   ]
  },
  {
   "cell_type": "code",
   "execution_count": null,
   "metadata": {},
   "outputs": [],
   "source": [
    "sednoids = []\n",
    "for asteroid in ssd['data']:\n",
    "    # print(asteroid)\n",
    "    sednoid = {}\n",
    "    for field, val in zip(ssd['fields'], asteroid):\n",
    "        sednoid[field] = val\n",
    "        #print(field, val)\n",
    "        \n",
    "    sednoids.append(sednoid)"
   ]
  },
  {
   "cell_type": "markdown",
   "metadata": {},
   "source": [
    "### Wikitable"
   ]
  },
  {
   "cell_type": "markdown",
   "metadata": {},
   "source": [
    "Wikitable-Header und -Footer"
   ]
  },
  {
   "cell_type": "code",
   "execution_count": null,
   "metadata": {},
   "outputs": [],
   "source": [
    "from string import Template\n",
    "headertpl = Template(\"\"\"{| class=\"wikitable sortable zebra\" style=\"text-align:right; padding:2px 30px 2px 2px;\"\n",
    "|+ Bahnparameter hoch-extremer transneptunischer Objekte mit Perihelien größer 50 AE und großen Halbachsen \"\"\"\n",
    "\"\"\"weiter als 150 AE<ref name=\"Ssd-Api\">{{Internetquelle \n",
    "    |url=https://ssd-api.jpl.nasa.gov/sbdb_query.api?fields=epoch.cal,full_name,name,pdes,a,sigma_a,e,sigma_e,q,sigma_q,ad,sigma_ad,i,sigma_i,om,sigma_om,w,sigma_w,per.y,sigma_per,H,H_sigma,source&sb-kind=a&sb-cdata=%7B%22AND%22:%5B%22a%7CGE%7C150%22,%22q%7CGE%7C50%22%5D%7D \n",
    "    |titel=SSD-Daten \n",
    "    |werk=[https://ssd.jpl.nasa.gov/tools/sbdb_query.html Small-Body Database Query] \n",
    "    |hrsg=Caltech/JPL \n",
    "    |format=JSON-Daten\n",
    "    |datum=$epoch\n",
    "    |abruf=$currentdate \n",
    "    |abruf-verborgen=1 }}</ref>\n",
    "|- style=\"vertical-align:bottom;\"\n",
    "! Objekt\n",
    "! [[Halbachsen der Ellipse|Halb&shy;achse]]<br />a (AE)\n",
    "! [[Exzentrizität (Astronomie)|Exzen&shy;trizität]]<br />e\n",
    "! [[Perihel]]<br />q (AE)\n",
    "! [[Aphel]]<br />Q (AE)\n",
    "! [[Bahnneigung|Inkli&shy;nation]]<br />i (°)\n",
    "! [[Argument der Periapsis|Argument<br />der Periapsis]]<br />(°)\n",
    "! [[Länge des aufsteigenden Knotens|Länge des aufst. Knotens]]<br />Ω (°)\n",
    "! [[Umlaufzeit|Umlauf&shy;zeit]]<br />T (Jahre)\n",
    "! [[Absolute Helligkeit]]<br />H (mag)\n",
    "\"\"\")\n",
    "\n",
    "footer=\"\"\"|}<noinclude>\n",
    "\n",
    "[[Kategorie:Vorlage:Astronomie]]\n",
    "[[Kategorie:Vorlage:Tabelle]]\n",
    "</noinclude>\n",
    "\"\"\""
   ]
  },
  {
   "cell_type": "markdown",
   "metadata": {},
   "source": [
    "Hilfsfunktion um Toleranzen zu berechen, darzustellen und sie bei zu kleinen Werten auszublenden."
   ]
  },
  {
   "cell_type": "code",
   "execution_count": null,
   "metadata": {},
   "outputs": [],
   "source": [
    "def renderToleran(wert, sigma):\n",
    "    if sigma * 100 / wert > 2:\n",
    "        # Toleranz anzeigen\n",
    "        return \"{0:n} ± {1:.0f}\".format(wert, sigma)\n",
    "    else:\n",
    "        # nur Wert\n",
    "        return format(wert, \"n\")"
   ]
  },
  {
   "cell_type": "markdown",
   "metadata": {},
   "source": [
    "Formatierung Name wikipedia-gerecht (einschließlich Wikilink)"
   ]
  },
  {
   "cell_type": "code",
   "execution_count": null,
   "metadata": {},
   "outputs": [],
   "source": [
    "def wikiname(sed):\n",
    "    if (sed['name'] == None):\n",
    "        parts = sed['pdes'].split(' ')\n",
    "        des = parts[1][:2]\n",
    "        number = parts[1][2:]\n",
    "        return '[[{}|{} {}<sub>{}</sub>]]'.format(sed['pdes'],parts[0], des, number)\n",
    "    else:\n",
    "        return '[[({}) {}]]'.format(sed['pdes'], sed['name'])"
   ]
  },
  {
   "cell_type": "markdown",
   "metadata": {},
   "source": [
    "Über Asteroiden iterieren und Feldern aus den Asteroiden berechnen"
   ]
  },
  {
   "cell_type": "code",
   "execution_count": null,
   "metadata": {},
   "outputs": [],
   "source": [
    "import locale\n",
    "loc = locale.getlocale()\n",
    "locale.setlocale(locale.LC_ALL, '')\n",
    "\n",
    "out = []\n",
    "for sed in sednoids:\n",
    "    sed_out = {}\n",
    "    for name,value in sed.items():\n",
    "        if name in ['e','q','i','om','w','H']:\n",
    "            sed_out[name] = format(float(sed[name]), \"n\")\n",
    "            #print(name+': '+sed_out[name])\n",
    "            \n",
    "        elif name in ['a','ad']:\n",
    "            sed_out[name] = renderToleran(float(sed[name]), float(sed['sigma_'+name]))\n",
    "            #print(name+': '+sed_out[name])\n",
    "            \n",
    "        elif name == 'per.y':\n",
    "            # sigma_per sind Tage\n",
    "            sed_out[name] = renderToleran(float(sed[name]), float(sed['sigma_per'])/365)\n",
    "            #print(name+': '+sed_out[name])\n",
    "            \n",
    "        elif name == 'full_name':\n",
    "            sed_out[name] = wikiname(sed)\n",
    "            #print(sed_out[name])\n",
    "            \n",
    "        else:\n",
    "            sed_out[name] = str(sed[name])\n",
    "            #print('unchanged '+sed_out[name])\n",
    "\n",
    "    out.append(sed_out)\n",
    "#print(out)"
   ]
  },
  {
   "cell_type": "code",
   "execution_count": null,
   "metadata": {
    "scrolled": true
   },
   "outputs": [],
   "source": [
    "from datetime import date\n",
    "table = \"\"\n",
    "for ast in out:\n",
    "    #print(ast)\n",
    "    # Start Zeile\n",
    "    table += \"\"\"|-\n",
    "| style=\"text-align:left;\" | \"\"\"\n",
    "    table += ast['full_name'].strip() + '\\n'\n",
    "    table += '| ' + ast['a']\n",
    "    table += ' || ' + ast['e']\n",
    "    table += ' || ' + ast['q']\n",
    "    table += ' || ' + ast['ad']\n",
    "    table += ' || ' + ast['i']\n",
    "    table += ' || ' + ast['w']\n",
    "    table += ' || ' + ast['om']\n",
    "    table += ' || ' + ast['per.y']\n",
    "    table += ' || ' + ast['H']\n",
    "\n",
    "    table += '\\n'\n",
    "    \n",
    "epoch=out[0]['epoch.cal'].split('.')[0]\n",
    "header = headertpl.substitute(currentdate=date.today().isoformat(), epoch=epoch)\n",
    "    \n",
    "ergebnis = header + table + footer\n",
    "print(ergebnis)"
   ]
  },
  {
   "cell_type": "code",
   "execution_count": null,
   "metadata": {},
   "outputs": [],
   "source": []
  }
 ],
 "metadata": {
  "kernelspec": {
   "display_name": "Python 3.8.10 64-bit",
   "language": "python",
   "name": "python3810jvsc74a57bd0916dbcbb3f70747c44a77c7bcd40155683ae19c65e1c03b4aa3499c5328201f1"
  },
  "language_info": {
   "codemirror_mode": {
    "name": "ipython",
    "version": 3
   },
   "file_extension": ".py",
   "mimetype": "text/x-python",
   "name": "python",
   "nbconvert_exporter": "python",
   "pygments_lexer": "ipython3",
   "version": "3.8.10"
  }
 },
 "nbformat": 4,
 "nbformat_minor": 4
}
